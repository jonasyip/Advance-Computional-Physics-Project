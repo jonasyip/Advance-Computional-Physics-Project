{
 "cells": [
  {
   "cell_type": "code",
   "execution_count": 2,
   "metadata": {},
   "outputs": [],
   "source": [
    "import numpy as np\n",
    "from numpy import genfromtxt"
   ]
  },
  {
   "cell_type": "code",
   "execution_count": 3,
   "metadata": {},
   "outputs": [
    {
     "name": "stdout",
     "output_type": "stream",
     "text": [
      "[['Sun' '1' '1' '0' '0' '0' '0' '0' '0']\n",
      " ['Mercury' '3.302E23' '0.0035068' '5.242617205495467E+07'\n",
      "  '-5.596063357617276E+06' '-5.398976570474024E+06'\n",
      "  '-3.931719860392732E+00' '5.056613955108243E+01'\n",
      "  '4.493726800433638E+00']\n",
      " ['Venus' '48.685E23' '6051.84' '-1.143612889654620E+07'\n",
      "  '1.076180391552140E+08' '2.081921801192194E+06'\n",
      "  '-3.498958532524220E+01' '-3.509011592387367E+00'\n",
      "  '1.971012081662609E+00']\n",
      " ['Earth' '5.97219E24' '6371.01' '-2.741147560901964E+07'\n",
      "  '1.452697499646169E+08' '1.907499306293577E+04'\n",
      "  '-2.981801522121922E+01' '-5.415519940416356E+00'\n",
      "  '1.781036907294364E-03']\n",
      " ['Mars' '6.4171E23' '3389.92' '-1.309510737126251E+08'\n",
      "  '-1.893127398896606E+08' '-7.714450109843910E+05'\n",
      "  '2.090994471204196E+01' '-1.160503586188451E+01'\n",
      "  '-7.557181497936503E-01']]\n"
     ]
    }
   ],
   "source": [
    "\n",
    "file_name = r\"C:\\Users\\Student\\OneDrive\\Bristol University\\Physics Year 4\\Advanced Computational Physics\\Advance-Computional-Physics-local-machine-1\\mini_project\\Direct approach\\Cython\\system.csvC:\\Users\\Student\\OneDrive\\Bristol University\\Physics Year 4\\Advanced Computational Physics\\Advance-Computional-Physics-local-machine-1\\mini_project\\Direct approach\\Cython\\system.csv\"\n",
    "file_name = r\"mini_project\\Direct approach\\Cython\\system.csv\"\n",
    "\n",
    "# my_data = genfromtxt(file_name, skip_header=1, delimiter=',')\n",
    "my_data = np.loadtxt(\"system.csv\", skiprows=2, delimiter=',', dtype=object)\n",
    "print(my_data)"
   ]
  },
  {
   "cell_type": "code",
   "execution_count": 10,
   "metadata": {},
   "outputs": [
    {
     "name": "stdout",
     "output_type": "stream",
     "text": [
      "Sun 1 1 0 0 0 0 0 0\n",
      "Mercury 3.302E23 0.0035068 5.242617205495467E+07 -5.596063357617276E+06 -5.398976570474024E+06 -3.931719860392732E+00 5.056613955108243E+01 4.493726800433638E+00\n",
      "Venus 48.685E23 6051.84 -1.143612889654620E+07 1.076180391552140E+08 2.081921801192194E+06 -3.498958532524220E+01 -3.509011592387367E+00 1.971012081662609E+00\n",
      "Earth 5.97219E24 6371.01 -2.741147560901964E+07 1.452697499646169E+08 1.907499306293577E+04 -2.981801522121922E+01 -5.415519940416356E+00 1.781036907294364E-03\n",
      "Mars 6.4171E23 3389.92 -1.309510737126251E+08 -1.893127398896606E+08 -7.714450109843910E+05 2.090994471204196E+01 -1.160503586188451E+01 -7.557181497936503E-01\n"
     ]
    }
   ],
   "source": [
    "def yes(name, mass, radius, x, y, z, vx, vy, vz):\n",
    "    print(name, mass, radius, x, y, z, vx, vy, vz)\n",
    "\n",
    "for i in range(len(my_data)):\n",
    "    yes(*my_data[i])"
   ]
  }
 ],
 "metadata": {
  "kernelspec": {
   "display_name": "Python 3.10.8 64-bit (microsoft store)",
   "language": "python",
   "name": "python3"
  },
  "language_info": {
   "codemirror_mode": {
    "name": "ipython",
    "version": 3
   },
   "file_extension": ".py",
   "mimetype": "text/x-python",
   "name": "python",
   "nbconvert_exporter": "python",
   "pygments_lexer": "ipython3",
   "version": "3.10.8"
  },
  "orig_nbformat": 4,
  "vscode": {
   "interpreter": {
    "hash": "0d72726b1d5bb42f6da70cc6a98077b21997979543aa2c3a459f04fe4973fa9b"
   }
  }
 },
 "nbformat": 4,
 "nbformat_minor": 2
}

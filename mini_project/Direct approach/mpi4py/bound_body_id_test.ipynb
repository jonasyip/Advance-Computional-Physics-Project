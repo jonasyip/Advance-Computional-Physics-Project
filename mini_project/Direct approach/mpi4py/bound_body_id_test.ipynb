{
 "cells": [
  {
   "cell_type": "code",
   "execution_count": 40,
   "metadata": {},
   "outputs": [
    {
     "name": "stdout",
     "output_type": "stream",
     "text": [
      "[1, 2, 3, 4, 5, 6, 7]\n",
      "nbody_per_rank  2.857142857142857\n",
      "round(nbody_per_rank)  3\n",
      "\n",
      "\n",
      "\n",
      "rank  1\n",
      "lower_body_id  0\n",
      "upper_body_id  3\n",
      "to calculate 3\n",
      "[0, 1, 2]\n",
      "\n",
      "rank  2\n",
      "lower_body_id  3\n",
      "upper_body_id  6\n",
      "to calculate 3\n",
      "[3, 4, 5]\n",
      "\n",
      "rank  3\n",
      "lower_body_id  6\n",
      "upper_body_id  9\n",
      "to calculate 3\n",
      "[6, 7, 8]\n",
      "\n",
      "rank  4\n",
      "lower_body_id  9\n",
      "upper_body_id  11\n",
      "to calculate 2\n",
      "[9, 10]\n",
      "\n",
      "rank  5\n",
      "lower_body_id  11\n",
      "upper_body_id  14\n",
      "to calculate 3\n",
      "[11, 12, 13]\n",
      "\n",
      "rank  6\n",
      "lower_body_id  14\n",
      "upper_body_id  17\n",
      "to calculate 3\n",
      "[14, 15, 16]\n",
      "\n",
      "rank  7\n",
      "lower_body_id  17\n",
      "upper_body_id  20\n",
      "to calculate 3\n",
      "[17, 18, 19]\n"
     ]
    }
   ],
   "source": [
    "nbody = 20\n",
    "size = 8\n",
    "ranks = [*range(1, size)]\n",
    "print(ranks)\n",
    "\n",
    "nbody_per_rank = nbody / (size - 1) # -1 because of master rank\n",
    "print(\"nbody_per_rank \", nbody_per_rank)\n",
    "print(\"round(nbody_per_rank) \", round(nbody_per_rank))\n",
    "\n",
    "print(\"\\n\")\n",
    "for rank in ranks:\n",
    "    \n",
    "    lower_body_id = round(nbody_per_rank * (rank - 1))\n",
    "    upper_body_id = round(rank * nbody_per_rank)\n",
    "    print(\"\\nrank \", rank)\n",
    "    print(\"lower_body_id \", lower_body_id)\n",
    "    print(\"upper_body_id \", upper_body_id)\n",
    "    print(\"to calculate\", ((upper_body_id - lower_body_id)))\n",
    "    a = [*range(lower_body_id, upper_body_id)]\n",
    "    print(a)"
   ]
  }
 ],
 "metadata": {
  "kernelspec": {
   "display_name": "Python 3.9.7 ('base')",
   "language": "python",
   "name": "python3"
  },
  "language_info": {
   "codemirror_mode": {
    "name": "ipython",
    "version": 3
   },
   "file_extension": ".py",
   "mimetype": "text/x-python",
   "name": "python",
   "nbconvert_exporter": "python",
   "pygments_lexer": "ipython3",
   "version": "3.9.7"
  },
  "orig_nbformat": 4,
  "vscode": {
   "interpreter": {
    "hash": "ae21a3e56bb7b7ae0242965a996818efe80fa944ec8bb60257b7c2c84d3358e6"
   }
  }
 },
 "nbformat": 4,
 "nbformat_minor": 2
}

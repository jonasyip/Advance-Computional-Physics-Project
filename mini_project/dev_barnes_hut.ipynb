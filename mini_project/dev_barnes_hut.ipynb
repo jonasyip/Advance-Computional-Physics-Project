{
 "cells": [
  {
   "cell_type": "code",
   "execution_count": 1,
   "metadata": {},
   "outputs": [],
   "source": [
    "import matplotlib.pyplot as plt\n",
    "import numpy as np\n",
    "import numpy.random as random\n",
    "import pandas as pd"
   ]
  },
  {
   "cell_type": "code",
   "execution_count": 2,
   "metadata": {},
   "outputs": [],
   "source": [
    "np.random.seed(100)       #Seed set for reproducibility\n"
   ]
  },
  {
   "cell_type": "code",
   "execution_count": 9,
   "metadata": {},
   "outputs": [
    {
     "name": "stdout",
     "output_type": "stream",
     "text": [
      "    Unnamed: 0  x_position (pc)  y_position (pc)  z_position (pc)  \\\n",
      "0            0         2.642166       -14.707935        -1.302148   \n",
      "1            1         2.486173       -13.214039         6.648918   \n",
      "2            2       -11.405725        -9.475315         2.264472   \n",
      "3            3        -3.935615        10.125582       -10.343284   \n",
      "4            4        -0.663086        -1.946085        14.858434   \n",
      "..         ...              ...              ...              ...   \n",
      "95          95        -9.591894       -10.500468        -4.768202   \n",
      "96          96        -1.393099       -12.988797         7.372274   \n",
      "97          97        11.768732        -8.281204        -4.233038   \n",
      "98          98         6.287701        10.224067         8.996292   \n",
      "99          99       -11.817728         7.936012        -4.728744   \n",
      "\n",
      "    Mass (M_sun)  \n",
      "0      10.766477  \n",
      "1       4.115578  \n",
      "2       5.645510  \n",
      "3       4.469458  \n",
      "4       7.654992  \n",
      "..           ...  \n",
      "95      4.385270  \n",
      "96      3.013004  \n",
      "97      2.490777  \n",
      "98     14.926847  \n",
      "99      2.148237  \n",
      "\n",
      "[100 rows x 5 columns]\n"
     ]
    }
   ],
   "source": [
    "data = pd.read_csv(r\"C:\\Users\\Student\\OneDrive\\Bristol University\\Physics Year 4\\Advanced Computational Physics\\Advance-Computional-Physics-local-machine-1\\initial_conditions.csv\")\n",
    "print(data)"
   ]
  },
  {
   "cell_type": "code",
   "execution_count": 15,
   "metadata": {},
   "outputs": [
    {
     "data": {
      "image/png": "[encoded data removed]",
      "text/plain": [
       "<Figure size 640x480 with 1 Axes>"
      ]
     },
     "metadata": {},
     "output_type": "display_data"
    }
   ],
   "source": [
    "x_pos = data.iloc[:, 1]\n",
    "y_pos = data.iloc[:, 2]\n",
    "plt.scatter(x_pos, y_pos)\n",
    "plt.show()"
   ]
  },
  {
   "cell_type": "code",
   "execution_count": null,
   "metadata": {},
   "outputs": [],
   "source": [
    "tree_array = {\n",
    "    \"level\" : [],\n",
    "    \"node\" : [],\n",
    "    \"parent\" : [],\n",
    "    \"1st_daughter\" : [],\n",
    "    \"n_daughter\" : [],\n",
    "    \"label\" : []\n",
    "}"
   ]
  },
  {
   "cell_type": "code",
   "execution_count": null,
   "metadata": {},
   "outputs": [],
   "source": [
    "        "
   ]
  }
 ],
 "metadata": {
  "kernelspec": {
   "display_name": "Python 3.10.8 64-bit (microsoft store)",
   "language": "python",
   "name": "python3"
  },
  "language_info": {
   "codemirror_mode": {
    "name": "ipython",
    "version": 3
   },
   "file_extension": ".py",
   "mimetype": "text/x-python",
   "name": "python",
   "nbconvert_exporter": "python",
   "pygments_lexer": "ipython3",
   "version": "3.10.8"
  },
  "orig_nbformat": 4,
  "vscode": {
   "interpreter": {
    "hash": "0d72726b1d5bb42f6da70cc6a98077b21997979543aa2c3a459f04fe4973fa9b"
   }
  }
 },
 "nbformat": 4,
 "nbformat_minor": 2
}
